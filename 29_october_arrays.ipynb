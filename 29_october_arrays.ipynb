{
 "cells": [
  {
   "cell_type": "markdown",
   "id": "56c53f47-aba2-41fc-a22a-9510be3926d9",
   "metadata": {},
   "source": [
    "1. Given an array, check if it contains any duplicates or not.\n",
    "\n",
    "arr = [1, 2, 4, 2, 5, 9]\n",
    "Output = True"
   ]
  },
  {
   "cell_type": "code",
   "execution_count": 3,
   "id": "7ed1417d-b028-4c61-bdfe-2cba58bbe7e9",
   "metadata": {},
   "outputs": [
    {
     "name": "stdout",
     "output_type": "stream",
     "text": [
      "True\n"
     ]
    }
   ],
   "source": [
    "arr=[1,2,4,2,5,9]\n",
    "#introduce boolean variable flag for if duplicates are found it will true \n",
    "flag=False      \n",
    "for i in range(len(arr)):\n",
    "    for j in range(len(arr)):\n",
    "        if(i==j):\n",
    "            flag=True\n",
    "print(flag)"
   ]
  },
  {
   "cell_type": "markdown",
   "id": "39c769b7-e767-4050-b682-85f567d0192c",
   "metadata": {},
   "source": [
    "2. Given an array and an integer k, rotate the array to the right by k steps.\n",
    "\n",
    "arr = [1, 2, 3, 4, 5, 6, 7] k = 3\n",
    "\n",
    "Output = [5, 6, 7, 1, 2, 3, 4]"
   ]
  },
  {
   "cell_type": "code",
   "execution_count": 19,
   "id": "6072f1df-a6e8-4cd1-bb3f-098dc2617f12",
   "metadata": {},
   "outputs": [
    {
     "name": "stdin",
     "output_type": "stream",
     "text": [
      " 3\n"
     ]
    },
    {
     "name": "stdout",
     "output_type": "stream",
     "text": [
      "[5, 6, 7, 1, 2, 3, 4]\n"
     ]
    }
   ],
   "source": [
    "arr=[1,2,3,4,5,6,7]\n",
    "k=int(input())\n",
    "a=[]\n",
    "n=len(arr)\n",
    "for i in range(n):\n",
    "    if (k>i):\n",
    "        a.append(arr[k+i+1])\n",
    "    else:\n",
    "        a.append(arr[i-k])\n",
    "print(a)"
   ]
  },
  {
   "cell_type": "markdown",
   "id": "8b9a5484-8c84-4495-ab74-20be2c341a32",
   "metadata": {},
   "source": [
    "3. Reverse the given array in-place, means without using any extra data structure.\n",
    "\n",
    "arr = [2, 4, 5, 7, 9, 12]\n",
    "\n",
    "Output = [12, 9, 7, 5, 4, 2]"
   ]
  },
  {
   "cell_type": "code",
   "execution_count": 20,
   "id": "166d0307-0025-480d-a711-d1445eb08aa8",
   "metadata": {},
   "outputs": [
    {
     "name": "stdout",
     "output_type": "stream",
     "text": [
      "[12, 9, 7, 5, 4, 2]\n"
     ]
    }
   ],
   "source": [
    "arr = [2, 4, 5, 7, 9, 12]\n",
    "a=[]\n",
    "for i in reversed(range(len(arr))):\n",
    "    a.append(arr[i])\n",
    "print(a)\n",
    "    "
   ]
  },
  {
   "cell_type": "markdown",
   "id": "b69edd73-4756-45e5-9565-770d22f994ba",
   "metadata": {},
   "source": [
    "4. Given an array of integers, find the maximum element in an array\n",
    "\n",
    "arr = [10, 5, 20, 8, 15]\n",
    "\n",
    "Output = 20"
   ]
  },
  {
   "cell_type": "code",
   "execution_count": 21,
   "id": "3b79f6f4-8cc5-4c05-91c9-852eb10035cd",
   "metadata": {},
   "outputs": [
    {
     "name": "stdout",
     "output_type": "stream",
     "text": [
      "20\n"
     ]
    }
   ],
   "source": [
    "arr = [10, 5, 20, 8, 15]\n",
    "max=0\n",
    "for i in range(len(arr)):\n",
    "    if(max<arr[i]):\n",
    "        max=arr[i]\n",
    "print(max)"
   ]
  },
  {
   "cell_type": "markdown",
   "id": "c7dad5dd-de37-4865-a623-06e5ce767aaf",
   "metadata": {},
   "source": [
    "5. Given a sorted array, remove the duplicate element without using any extra data structure.\n",
    "\n",
    "arr = [1, 1, 2, 2, 2, 3, 3, 4, 4, 4, 5, 5]\n",
    "\n",
    "Output = [1, 2, 3, 4, 5]"
   ]
  },
  {
   "cell_type": "code",
   "execution_count": 23,
   "id": "9907df3c-10be-44ca-8d8a-28796443e891",
   "metadata": {},
   "outputs": [
    {
     "name": "stdout",
     "output_type": "stream",
     "text": [
      "[1, 2, 3, 4, 5]\n"
     ]
    }
   ],
   "source": [
    "arr = [1, 1, 2, 2, 2, 3, 3, 4, 4, 4, 5, 5]\n",
    "a=[]\n",
    "m=0\n",
    "for i in range(len(arr)):\n",
    "    if(m<arr[i]):\n",
    "        m=arr[i]\n",
    "        a.append(arr[i])\n",
    "print(a)"
   ]
  },
  {
   "cell_type": "code",
   "execution_count": null,
   "id": "45dee118-4afb-4a7c-809f-718d2bec49b1",
   "metadata": {},
   "outputs": [],
   "source": []
  }
 ],
 "metadata": {
  "kernelspec": {
   "display_name": "Python 3 (ipykernel)",
   "language": "python",
   "name": "python3"
  },
  "language_info": {
   "codemirror_mode": {
    "name": "ipython",
    "version": 3
   },
   "file_extension": ".py",
   "mimetype": "text/x-python",
   "name": "python",
   "nbconvert_exporter": "python",
   "pygments_lexer": "ipython3",
   "version": "3.10.8"
  }
 },
 "nbformat": 4,
 "nbformat_minor": 5
}
