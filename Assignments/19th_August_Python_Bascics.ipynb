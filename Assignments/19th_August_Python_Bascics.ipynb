{
 "cells": [
  {
   "cell_type": "markdown",
   "id": "e7b67add-7638-4df5-bbfb-8c7af7b59519",
   "metadata": {},
   "source": [
    "TOPIC: Python Basics Variable"
   ]
  },
  {
   "cell_type": "markdown",
   "id": "f3bd2820-effe-4ea7-b46c-354bb2b9d6fb",
   "metadata": {},
   "source": [
    "Question 1: Declare two variables, `x` and `y`, and assign them integer values.\n",
    "            Swap the values of these variables without using any temporary\n",
    "            variable.\n",
    "Answer:-"
   ]
  },
  {
   "cell_type": "code",
   "execution_count": 6,
   "id": "39279cea-b8f4-4e68-8ff7-e7bc1336204b",
   "metadata": {},
   "outputs": [
    {
     "name": "stdout",
     "output_type": "stream",
     "text": [
      "Before swapping\n",
      "x= 10 y= 20\n",
      "After swapping\n",
      "x= 20 y= 10\n"
     ]
    }
   ],
   "source": [
    "x=10\n",
    "y=20\n",
    "print(\"Before swapping\")\n",
    "print(\"x=\", x,\"y=\", y)\n",
    "x=x+y\n",
    "y=x-y\n",
    "x=x-y\n",
    "print(\"After swapping\")\n",
    "print(\"x=\", x,\"y=\", y)"
   ]
  },
  {
   "cell_type": "markdown",
   "id": "760ba73e-1acd-4e96-bbbe-0f6190a87827",
   "metadata": {},
   "source": [
    "Question 2: Create a program that calculates the area of a rectangle. Take the\n",
    "            length and width as inputs from the user and store them in variables.\n",
    "            Calculate and display the area.\n",
    "Answer:-"
   ]
  },
  {
   "cell_type": "code",
   "execution_count": 8,
   "id": "311859af-853e-4f19-80d7-f37aeda49074",
   "metadata": {},
   "outputs": [
    {
     "name": "stdout",
     "output_type": "stream",
     "text": [
      "Enter the length of rectangle\n"
     ]
    },
    {
     "name": "stdin",
     "output_type": "stream",
     "text": [
      " 12\n"
     ]
    },
    {
     "name": "stdout",
     "output_type": "stream",
     "text": [
      "Enter the breadth of rectangle\n"
     ]
    },
    {
     "name": "stdin",
     "output_type": "stream",
     "text": [
      " 13\n"
     ]
    },
    {
     "name": "stdout",
     "output_type": "stream",
     "text": [
      "Area of rectangle= 156.0\n"
     ]
    }
   ],
   "source": [
    "print(\"Enter the length of rectangle\")\n",
    "l=float(input())\n",
    "print(\"Enter the breadth of rectangle\")\n",
    "b=float(input())\n",
    "a=l*b\n",
    "print(\"Area of rectangle=\", a)"
   ]
  },
  {
   "cell_type": "markdown",
   "id": "c4908024-5116-488f-a164-91a2019aa29d",
   "metadata": {},
   "source": [
    "Question 3: Write a Python program that converts temperature from Celsius to\n",
    "            Fahrenheit. Take the temperature in Celsius as input, store it in a\n",
    "            variable, convert it to Fahrenheit, and display the result.\n",
    "Answer:-"
   ]
  },
  {
   "cell_type": "code",
   "execution_count": 10,
   "id": "bd879755-14eb-41fa-a267-10c7118fee23",
   "metadata": {},
   "outputs": [
    {
     "name": "stdin",
     "output_type": "stream",
     "text": [
      "Enter the temperature in celcius:- 65\n"
     ]
    },
    {
     "name": "stdout",
     "output_type": "stream",
     "text": [
      "Temperature in Fahrenheit:- 149.0\n"
     ]
    }
   ],
   "source": [
    "a=float(input(\"Enter the temperature in celcius:-\"))\n",
    "f=(a*9/5)+32\n",
    "print(\"Temperature in Fahrenheit:-\", f)"
   ]
  },
  {
   "cell_type": "markdown",
   "id": "81a35117-a6b3-4c75-8ed5-fbd9aaf44eb9",
   "metadata": {
    "tags": []
   },
   "source": [
    "TOPIC: String Based Questions"
   ]
  },
  {
   "cell_type": "markdown",
   "id": "04e18778-8e39-4f58-9759-74c5426cf8fa",
   "metadata": {},
   "source": [
    "Question 1: Write a Python program that takes a string as input and prints the\n",
    "            length of the string.\n",
    "Answer:- "
   ]
  },
  {
   "cell_type": "code",
   "execution_count": 12,
   "id": "903750bc-b58a-4694-a40f-fb7ce2b7093f",
   "metadata": {},
   "outputs": [
    {
     "name": "stdin",
     "output_type": "stream",
     "text": [
      "Enter a string: pwskills lab\n"
     ]
    },
    {
     "name": "stdout",
     "output_type": "stream",
     "text": [
      "Length of String: 12\n"
     ]
    }
   ],
   "source": [
    "s=str(input(\"Enter a string:\"))\n",
    "l=len(s)\n",
    "print(\"Length of String:\", l)"
   ]
  },
  {
   "cell_type": "markdown",
   "id": "07a3af21-9369-4839-9073-d1256ce129ae",
   "metadata": {},
   "source": [
    "Question 2: Create a program that takes a sentence from the user and counts the\n",
    "            number of vowels (a, e, i, o, u) in the string.\n",
    "Answer:- "
   ]
  },
  {
   "cell_type": "code",
   "execution_count": 13,
   "id": "9b1ec9db-399f-4b75-a93c-12ae166675ce",
   "metadata": {},
   "outputs": [
    {
     "name": "stdin",
     "output_type": "stream",
     "text": [
      "Enter a string: physics wallah\n"
     ]
    },
    {
     "name": "stdout",
     "output_type": "stream",
     "text": [
      "Number of vovel in the string: 3\n"
     ]
    }
   ],
   "source": [
    "s=str(input(\"Enter a string:\"))\n",
    "count=0\n",
    "for i in s:\n",
    "    if i in \"AaEeIiOoUu\":\n",
    "        count+=1\n",
    "print(\"Number of vovel in the string:\", count)"
   ]
  },
  {
   "cell_type": "markdown",
   "id": "ae84f407-48f4-476b-9a8a-7a6e573bbd30",
   "metadata": {},
   "source": [
    "Question 3: Given a string, reverse the order of characters using string slicing and\n",
    "            print the reversed string.\n",
    "Answer:- "
   ]
  },
  {
   "cell_type": "code",
   "execution_count": 14,
   "id": "5fef7de5-0bde-419f-a524-10bec0821820",
   "metadata": {},
   "outputs": [
    {
     "name": "stdin",
     "output_type": "stream",
     "text": [
      "Enter a string: pwskills\n"
     ]
    },
    {
     "name": "stdout",
     "output_type": "stream",
     "text": [
      "Reverse of the string: sllikswp\n"
     ]
    }
   ],
   "source": [
    "s=str(input(\"Enter a string:\"))\n",
    "s1=\"\"\n",
    "for i in s:\n",
    "    s1=i+s1\n",
    "print(\"Reverse of the string:\", s1)"
   ]
  },
  {
   "cell_type": "markdown",
   "id": "65f49e58-756b-46f6-b96a-7190677a5f4e",
   "metadata": {},
   "source": [
    "Question 4: Write a program that takes a string as input and checks if it is a\n",
    "            palindrome (reads the same forwards and backwards).\n",
    "Answer:- "
   ]
  },
  {
   "cell_type": "code",
   "execution_count": 17,
   "id": "2f7ca832-12ba-4d1e-9330-2118e0d1abd2",
   "metadata": {},
   "outputs": [
    {
     "name": "stdin",
     "output_type": "stream",
     "text": [
      "Enter a string: madam\n"
     ]
    },
    {
     "name": "stdout",
     "output_type": "stream",
     "text": [
      "String is pallindrome\n"
     ]
    }
   ],
   "source": [
    "s=str(input(\"Enter a string:\"))\n",
    "s1=\"\"\n",
    "for i in s:\n",
    "    s1=i+s1\n",
    "if s==s1:\n",
    "    print(\"String is pallindrome\")\n",
    "else:\n",
    "    print(\"String is not pallindrome\")"
   ]
  },
  {
   "cell_type": "markdown",
   "id": "41ec4aea-e189-449e-84e8-eba982660650",
   "metadata": {},
   "source": [
    "Question 5: Create a program that takes a string as input and removes all the\n",
    "            spaces from it. Print the modified string without spaces.\n",
    "Answer:- "
   ]
  },
  {
   "cell_type": "code",
   "execution_count": 20,
   "id": "8a2c84ef-dd22-4c27-8088-ac1190af4907",
   "metadata": {},
   "outputs": [
    {
     "name": "stdin",
     "output_type": "stream",
     "text": [
      "Enter a string: i love pwskills classes\n"
     ]
    },
    {
     "name": "stdout",
     "output_type": "stream",
     "text": [
      "Space removed from the string: ilovepwskillsclasses\n"
     ]
    }
   ],
   "source": [
    "s=str(input(\"Enter a string:\"))\n",
    "print(\"Space removed from the string:\", s.replace(\" \", \"\"))"
   ]
  }
 ],
 "metadata": {
  "kernelspec": {
   "display_name": "Python 3 (ipykernel)",
   "language": "python",
   "name": "python3"
  },
  "language_info": {
   "codemirror_mode": {
    "name": "ipython",
    "version": 3
   },
   "file_extension": ".py",
   "mimetype": "text/x-python",
   "name": "python",
   "nbconvert_exporter": "python",
   "pygments_lexer": "ipython3",
   "version": "3.10.8"
  }
 },
 "nbformat": 4,
 "nbformat_minor": 5
}
